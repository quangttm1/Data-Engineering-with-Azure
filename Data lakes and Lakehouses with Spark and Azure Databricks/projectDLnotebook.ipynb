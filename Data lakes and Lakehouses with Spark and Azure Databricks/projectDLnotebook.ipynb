{
 "cells": [
  {
   "cell_type": "code",
   "execution_count": 0,
   "metadata": {
    "application/vnd.databricks.v1+cell": {
     "cellMetadata": {
      "byteLimit": 2048000,
      "rowLimit": 10000
     },
     "inputWidgets": {},
     "nuid": "c9b36919-6e4b-473b-aca3-4488631a04b2",
     "showTitle": false,
     "title": ""
    }
   },
   "outputs": [],
   "source": [
    "from pyspark.sql.functions import *"
   ]
  },
  {
   "cell_type": "code",
   "execution_count": 0,
   "metadata": {
    "application/vnd.databricks.v1+cell": {
     "cellMetadata": {
      "byteLimit": 2048000,
      "rowLimit": 10000
     },
     "inputWidgets": {},
     "nuid": "76f6243f-945e-4728-a60a-424e19273058",
     "showTitle": false,
     "title": ""
    }
   },
   "outputs": [],
   "source": [
    "def read_file_csv(filepath):\n",
    "    return spark.read.format('csv')\\\n",
    "    .option(\"inferSchema\", \"false\")\\\n",
    "    .option(\"header\", \"false\")\\\n",
    "    .option(\"sep\", \",\")\\\n",
    "    .load(filepath)"
   ]
  },
  {
   "cell_type": "code",
   "execution_count": 0,
   "metadata": {
    "application/vnd.databricks.v1+cell": {
     "cellMetadata": {
      "byteLimit": 2048000,
      "rowLimit": 10000
     },
     "inputWidgets": {},
     "nuid": "2524e507-ed91-4f88-93cc-314f77390754",
     "showTitle": false,
     "title": ""
    }
   },
   "outputs": [],
   "source": [
    "riders_filepath = \"/FileStore/tables/projectDL/riders.csv\"\n",
    "stations_filepath = \"/FileStore/tables/projectDL/stations.csv\"\n",
    "payments_filepath = \"/FileStore/tables/projectDL/payments.csv\"\n",
    "trips_filepath = \"/FileStore/tables/projectDL/trips.csv\"\n",
    "\n",
    "riders_cols = [\"rider_id\", \"first\", \"last\", \"address\", \"birthday\", \"account_start_date\", \"account_end_date\", \"is_member\"]\n",
    "stations_cols = [\"station_id\", \"name\", \"latitude\", \"longitude\"]\n",
    "payments_cols = [\"payment_id\", \"date\", \"amount\", \"rider_id\"]\n",
    "trips_cols = [\"trip_id\", \"rideable_type\", \"start_at\", \"ended_at\", \"start_station_id\", \"end_station_id\", \"rider_id\"]\n",
    "\n",
    "df_riders = read_file_csv(riders_filepath)\n",
    "df_riders = df_riders.toDF(*riders_cols)\n",
    "\n",
    "df_stations = read_file_csv(stations_filepath)\n",
    "df_stations = df_stations.toDF(*stations_cols)\n",
    "\n",
    "df_payments = read_file_csv(payments_filepath)\n",
    "df_payments = df_payments.toDF(*payments_cols)\n",
    "\n",
    "df_trips = read_file_csv(trips_filepath)\n",
    "df_trips = df_trips.toDF(*trips_cols)"
   ]
  },
  {
   "cell_type": "code",
   "execution_count": 0,
   "metadata": {
    "application/vnd.databricks.v1+cell": {
     "cellMetadata": {
      "byteLimit": 2048000,
      "rowLimit": 10000
     },
     "inputWidgets": {},
     "nuid": "f2e601eb-f146-49f5-a85a-af6448141b02",
     "showTitle": false,
     "title": ""
    }
   },
   "outputs": [],
   "source": [
    "display(df_trips)"
   ]
  },
  {
   "cell_type": "code",
   "execution_count": 0,
   "metadata": {
    "application/vnd.databricks.v1+cell": {
     "cellMetadata": {
      "byteLimit": 2048000,
      "rowLimit": 10000
     },
     "inputWidgets": {},
     "nuid": "7529494c-a23e-4bd6-93c5-a81debd75002",
     "showTitle": false,
     "title": ""
    }
   },
   "outputs": [],
   "source": [
    "#delete file/folder\n",
    "#%fs rm -r dbfs:/delta "
   ]
  },
  {
   "cell_type": "code",
   "execution_count": 0,
   "metadata": {
    "application/vnd.databricks.v1+cell": {
     "cellMetadata": {
      "byteLimit": 2048000,
      "rowLimit": 10000
     },
     "inputWidgets": {},
     "nuid": "0f5897db-9663-4062-9115-e04dd2ecdb4a",
     "showTitle": false,
     "title": ""
    }
   },
   "outputs": [],
   "source": [
    "df_riders.write.format(\"delta\").mode(\"overwrite\").save(\"/delta/bronze_riders\")\n",
    "df_stations.write.format(\"delta\").mode(\"overwrite\").save(\"/delta/bronze_stations\")\n",
    "df_payments.write.format(\"delta\").mode(\"overwrite\").save(\"/delta/bronze_payments\")\n",
    "df_trips.write.format(\"delta\").mode(\"overwrite\").save(\"/delta/bronze_trips\")"
   ]
  },
  {
   "cell_type": "code",
   "execution_count": 0,
   "metadata": {
    "application/vnd.databricks.v1+cell": {
     "cellMetadata": {
      "byteLimit": 2048000,
      "rowLimit": 10000
     },
     "inputWidgets": {},
     "nuid": "70ad001d-90b0-4396-90a4-eb748295c3c0",
     "showTitle": false,
     "title": ""
    }
   },
   "outputs": [
    {
     "output_type": "stream",
     "name": "stdout",
     "output_type": "stream",
     "text": [
      "Out[10]: DataFrame[]"
     ]
    }
   ],
   "source": [
    "spark.sql(\"CREATE TABLE silver_riders USING DELTA LOCATION '/delta/bronze_riders'\")\n",
    "spark.sql(\"CREATE TABLE silver_stations USING DELTA LOCATION '/delta/bronze_stations'\")\n",
    "spark.sql(\"CREATE TABLE silver_payments USING DELTA LOCATION '/delta/bronze_payments'\")\n",
    "spark.sql(\"CREATE TABLE silver_trips USING DELTA LOCATION '/delta/bronze_trips'\")"
   ]
  },
  {
   "cell_type": "code",
   "execution_count": 0,
   "metadata": {
    "application/vnd.databricks.v1+cell": {
     "cellMetadata": {
      "byteLimit": 2048000,
      "rowLimit": 10000
     },
     "inputWidgets": {},
     "nuid": "3a83ed8b-d837-410a-9f10-79b2d4b394f6",
     "showTitle": false,
     "title": ""
    }
   },
   "outputs": [],
   "source": [
    "df_silver_riders = spark.read.table(\"silver_riders\")\n",
    "df_silver_stations = spark.read.table(\"silver_stations\")\n",
    "df_silver_payments = spark.read.table(\"silver_payments\")\n",
    "df_silver_trips = spark.read.table(\"silver_trips\")"
   ]
  },
  {
   "cell_type": "code",
   "execution_count": 0,
   "metadata": {
    "application/vnd.databricks.v1+cell": {
     "cellMetadata": {
      "byteLimit": 2048000,
      "rowLimit": 10000
     },
     "inputWidgets": {},
     "nuid": "470405f6-697a-49e7-818c-1c65d48d6449",
     "showTitle": false,
     "title": ""
    }
   },
   "outputs": [],
   "source": [
    "#Create DimStation table\n",
    "df_dim_station = df_silver_stations.withColumn(\"latitude\", col(\"latitude\").cast(\"float\"))\\\n",
    ".withColumn(\"longitude\", col(\"longitude\").cast(\"float\"))"
   ]
  },
  {
   "cell_type": "code",
   "execution_count": 0,
   "metadata": {
    "application/vnd.databricks.v1+cell": {
     "cellMetadata": {
      "byteLimit": 2048000,
      "rowLimit": 10000
     },
     "inputWidgets": {},
     "nuid": "15d67927-0e0c-4e8b-9eaf-494fd3c2e4a9",
     "showTitle": false,
     "title": ""
    }
   },
   "outputs": [],
   "source": [
    "#Create DimRider table\n",
    "df_dim_rider = df_silver_riders.withColumn(\"rider_id\", col('rider_id').cast(\"int\"))\\\n",
    "                .withColumn(\"birthday\", to_timestamp(\"birthday\"))\\\n",
    "                .withColumn(\"account_start_date\", to_timestamp(\"account_start_date\"))\\\n",
    "                .withColumn(\"account_end_date\", to_timestamp(\"account_end_date\"))\\\n",
    "                .withColumn(\"is_member\", col(\"is_member\").cast(\"boolean\"))\\\n",
    "                .withColumn(\"rider_account_age\", floor(datediff(to_timestamp(col(\"account_start_date\"), \"MM-dd-yyyy\"), to_timestamp(col(\"birthday\"), \"MM-dd-yyyy\"))/365.25))\n",
    "display(df_dim_rider)"
   ]
  },
  {
   "cell_type": "code",
   "execution_count": 0,
   "metadata": {
    "application/vnd.databricks.v1+cell": {
     "cellMetadata": {
      "byteLimit": 2048000,
      "rowLimit": 10000
     },
     "inputWidgets": {},
     "nuid": "432c1114-a4a5-4cc1-9ad6-5702a8208b54",
     "showTitle": false,
     "title": ""
    }
   },
   "outputs": [
    {
     "output_type": "stream",
     "name": "stdout",
     "output_type": "stream",
     "text": [
      "root\n |-- payment_id: integer (nullable = true)\n |-- date: date (nullable = true)\n |-- amount: float (nullable = true)\n |-- rider_id: integer (nullable = true)\n\n"
     ]
    }
   ],
   "source": [
    "#Create FactPayment table\n",
    "df_fact_payment = df_silver_payments.withColumn(\"payment_id\", col(\"payment_id\").cast(\"int\"))\\\n",
    "                        .withColumn(\"rider_id\", col(\"rider_id\").cast(\"int\"))\\\n",
    "                        .withColumn(\"date\", to_date(col(\"date\"), \"MM-dd-yyyy\"))\\\n",
    "                        .withColumn(\"amount\", col(\"amount\").cast(\"float\"))\n",
    "df_fact_payment.printSchema()"
   ]
  },
  {
   "cell_type": "code",
   "execution_count": 0,
   "metadata": {
    "application/vnd.databricks.v1+cell": {
     "cellMetadata": {
      "byteLimit": 2048000,
      "rowLimit": 10000
     },
     "inputWidgets": {},
     "nuid": "bfdda38d-9aa9-417f-8dc9-9742d6173e79",
     "showTitle": false,
     "title": ""
    }
   },
   "outputs": [],
   "source": [
    "#Create FactTrip\n",
    "df_fact_trip = df_silver_trips.withColumn(\"start_at\", to_timestamp(col(\"start_at\")))\\\n",
    "                    .withColumn(\"ended_at\", to_timestamp(col(\"ended_at\")))\\\n",
    "                    .withColumn(\"rider_id\", col(\"rider_id\").cast(\"int\"))\n",
    "\n",
    "df_birthday_rider = df_dim_rider.select(\"rider_id\", \"birthday\").withColumnRenamed(\"rider_id\", \"id\")\n",
    "df_fact_trip = df_fact_trip.join(df_birthday_rider, df_fact_trip.rider_id == df_birthday_rider.id, \"inner\")\n",
    "df_fact_trip = df_fact_trip.withColumn(\"rider_trip_age\", floor(datediff(to_timestamp(col(\"start_at\"), \"MM-dd-yyyy\"), to_timestamp(col(\"birthday\"), \"MM-dd-yyyy\"))/365.25))\\\n",
    "                .withColumn(\"total_minutes_trip\", round((col(\"ended_at\").cast(\"long\") - col('start_at').cast(\"long\"))/60))\n",
    "df_fact_trip = df_fact_trip.select(\"trip_id\", \"rideable_type\", \"start_at\", \"ended_at\", \"start_station_id\", \"end_station_id\", \"rider_id\", \"rider_trip_age\", \"total_minutes_trip\")\n",
    "display(df_fact_trip)"
   ]
  },
  {
   "cell_type": "code",
   "execution_count": 0,
   "metadata": {
    "application/vnd.databricks.v1+cell": {
     "cellMetadata": {
      "byteLimit": 2048000,
      "rowLimit": 10000
     },
     "inputWidgets": {},
     "nuid": "8f2e4273-231c-4f55-865d-870da7bfbde9",
     "showTitle": false,
     "title": ""
    }
   },
   "outputs": [],
   "source": [
    "#Create DimDate table\n",
    "def generate_series(start, stop, interval):\n",
    "    start, stop = spark.createDataFrame([(start, stop)], (\"start\", \"stop\"))\\\n",
    "    .select([col(c).cast(\"timestamp\").cast(\"long\") for c in (\"start\", \"stop\")]).first()\n",
    "    # Create range with increments and cast to timestamp\n",
    "    return spark.range(start, stop, interval).select(col(\"id\").cast(\"timestamp\").alias(\"date\"))"
   ]
  },
  {
   "cell_type": "code",
   "execution_count": 0,
   "metadata": {
    "application/vnd.databricks.v1+cell": {
     "cellMetadata": {
      "byteLimit": 2048000,
      "rowLimit": 10000
     },
     "inputWidgets": {},
     "nuid": "5e6c83db-ced3-4464-91f6-a28f079beada",
     "showTitle": false,
     "title": ""
    }
   },
   "outputs": [],
   "source": [
    "max_payment_date = (df_silver_payments.agg(max(\"date\"))).collect()[0][0]\n",
    "min_payment_date = (df_silver_payments.agg(min(\"date\"))).collect()[0][0]\n",
    "max_trip_date = (df_silver_trips.agg(max(\"ended_at\"))).collect()[0][0]\n",
    "min_trip_date = (df_silver_trips.agg(min(\"ended_at\"))).collect()[0][0]"
   ]
  },
  {
   "cell_type": "code",
   "execution_count": 0,
   "metadata": {
    "application/vnd.databricks.v1+cell": {
     "cellMetadata": {
      "byteLimit": 2048000,
      "rowLimit": 10000
     },
     "inputWidgets": {},
     "nuid": "984b5539-826a-431e-9a3d-5bb5e28e7296",
     "showTitle": false,
     "title": ""
    }
   },
   "outputs": [],
   "source": [
    "beginDate = '2013-02-01'\n",
    "endDate = '2022-02-02'\n",
    "\n",
    "df_dim_date = generate_series(beginDate, endDate, 60 * 60)\n",
    "df_dim_date = df_dim_date.withColumn('date', to_timestamp('date', 'EEE, MM/dd/yy hh:mm a')) \\\n",
    "    .withColumn('year', year('date')) \\\n",
    "    .withColumn('quater', quarter('date')) \\\n",
    "    .withColumn('month', month('date')) \\\n",
    "    .withColumn('day', dayofmonth('date')) \\\n",
    "    .withColumn('hour', hour('date')) \\\n",
    "    .withColumn('week', weekofyear('date')) \\\n",
    "    .withColumn('dayofweek', dayofweek('date'))\n",
    "display(df_dim_date)"
   ]
  },
  {
   "cell_type": "code",
   "execution_count": 0,
   "metadata": {
    "application/vnd.databricks.v1+cell": {
     "cellMetadata": {
      "byteLimit": 2048000,
      "rowLimit": 10000
     },
     "inputWidgets": {},
     "nuid": "4f0bdaa8-7c67-431d-9968-98ca246f20d5",
     "showTitle": false,
     "title": ""
    }
   },
   "outputs": [],
   "source": [
    "#Load \n",
    "df_fact_trip.write.format(\"delta\").mode(\"overwrite\").saveAsTable(\"golden_fact_trip\")\n",
    "df_fact_payment.write.format(\"delta\").mode(\"overwrite\").saveAsTable(\"golden_fact_payment\")\n",
    "df_dim_rider.write.format(\"delta\").mode(\"overwrite\").saveAsTable(\"golden_dim_rider\")\n",
    "df_dim_station.write.format(\"delta\").mode(\"overwrite\").saveAsTable(\"golden_dim_station\")\n",
    "df_dim_date.write.format(\"delta\").mode(\"overwrite\").saveAsTable(\"golden_dim_date\")"
   ]
  },
  {
   "cell_type": "code",
   "execution_count": 0,
   "metadata": {
    "application/vnd.databricks.v1+cell": {
     "cellMetadata": {},
     "inputWidgets": {},
     "nuid": "25e5efc5-9825-4685-9951-6b4957f1b271",
     "showTitle": false,
     "title": ""
    }
   },
   "outputs": [],
   "source": []
  }
 ],
 "metadata": {
  "application/vnd.databricks.v1+notebook": {
   "dashboards": [],
   "language": "python",
   "notebookMetadata": {
    "mostRecentlyExecutedCommandWithImplicitDF": {
     "commandId": -1,
     "dataframes": [
      "_sqldf"
     ]
    },
    "pythonIndentUnit": 4
   },
   "notebookName": "projectDLnotebook",
   "notebookOrigID": 3791776528561246,
   "widgets": {}
  }
 },
 "nbformat": 4,
 "nbformat_minor": 0
}
